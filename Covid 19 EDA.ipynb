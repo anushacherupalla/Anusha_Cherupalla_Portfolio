{
 "cells": [
  {
   "cell_type": "markdown",
   "id": "a9126990",
   "metadata": {},
   "source": [
    "## EDA on Covid-19 Dataset\n",
    "Dataset downloaded from: *BigQuery -> Public Datasets -> covid19_jhu_csse -> summary*\n",
    "\n",
    "**Anusha Cherupalla**"
   ]
  },
  {
   "cell_type": "markdown",
   "id": "ff4c5501",
   "metadata": {},
   "source": [
    "Perform EDA on your chosen dataset and produce a thorough EDA report for your Data Scientist peers that meets the following criteria:\n",
    "\n",
    "- Report must perform basic EDA as per the video instructions across the videos and should include basic information and relevant statistics. \n",
    "- Report should include all relevant steps, including how you loaded the file into a dataframe.\n",
    "- Report must include screenshots of the functions you used and the outputs you generated to perform your analysis.\n",
    "- Report must include histograms, boxplots, and scatter plots, as well as your interpretation of what these visual indicate, for relevant fields. (You can include additional visualizations in the Appendix if desired.)\n",
    "- Report must be no longer than 10 pages, not including Appendix materials for citations, additional contextual supporting information, etc. There are no page limits for the Appendix."
   ]
  },
  {
   "cell_type": "code",
   "execution_count": null,
   "id": "a88c36b8",
   "metadata": {},
   "outputs": [],
   "source": [
    "import pandas as pd\n",
    "\n",
    "df = pd.read_csv('/Users/anushacherupalla/Downloads/Covid Cases Summary')"
   ]
  },
  {
   "cell_type": "code",
   "execution_count": null,
   "id": "49db1a0b",
   "metadata": {
    "scrolled": false
   },
   "outputs": [],
   "source": [
    "df.head()"
   ]
  },
  {
   "cell_type": "code",
   "execution_count": null,
   "id": "7fe5ee60",
   "metadata": {
    "scrolled": true
   },
   "outputs": [],
   "source": [
    "df.tail()"
   ]
  },
  {
   "cell_type": "code",
   "execution_count": null,
   "id": "1568980d",
   "metadata": {
    "scrolled": false
   },
   "outputs": [],
   "source": [
    "df.shape"
   ]
  },
  {
   "cell_type": "markdown",
   "id": "4a7409f7",
   "metadata": {},
   "source": [
    "### Drop Columns?\n",
    "Looking at the head and tail, there are only US data. I will list out the different countries and provinces in this dataset, to see if I can drop any redundant columns."
   ]
  },
  {
   "cell_type": "code",
   "execution_count": null,
   "id": "de218708",
   "metadata": {
    "scrolled": true
   },
   "outputs": [],
   "source": [
    "# how many different countries are included in this data\n",
    "df['country_region'].nunique()"
   ]
  },
  {
   "cell_type": "code",
   "execution_count": null,
   "id": "05534c70",
   "metadata": {},
   "outputs": [],
   "source": [
    "# list countries and counts; create a df for this\n",
    "c = df['country_region'].value_counts()\n",
    "c_df = pd.DataFrame({'country_region': c.index, 'count': c.values})"
   ]
  },
  {
   "cell_type": "code",
   "execution_count": null,
   "id": "e6d980d5",
   "metadata": {},
   "outputs": [],
   "source": [
    "print(c)"
   ]
  },
  {
   "cell_type": "code",
   "execution_count": null,
   "id": "148ab25e",
   "metadata": {
    "scrolled": false
   },
   "outputs": [],
   "source": [
    "c_df"
   ]
  },
  {
   "cell_type": "code",
   "execution_count": null,
   "id": "76120193",
   "metadata": {},
   "outputs": [],
   "source": [
    "# how many different provinces/states are included in this data\n",
    "df['province_state'].nunique()"
   ]
  },
  {
   "cell_type": "code",
   "execution_count": null,
   "id": "94a940f8",
   "metadata": {},
   "outputs": [],
   "source": [
    "# list provinces/states and counts; create a df for this\n",
    "ps = df['province_state'].value_counts()\n",
    "ps_df = pd.DataFrame({'province_state': ps.index, 'count': ps.values})"
   ]
  },
  {
   "cell_type": "code",
   "execution_count": null,
   "id": "e65d5e58",
   "metadata": {},
   "outputs": [],
   "source": [
    "ps"
   ]
  },
  {
   "cell_type": "code",
   "execution_count": null,
   "id": "fbea3ef8",
   "metadata": {},
   "outputs": [],
   "source": [
    "ps_df"
   ]
  },
  {
   "cell_type": "markdown",
   "id": "34cdcb8b",
   "metadata": {},
   "source": [
    "### Date Range\n",
    "\n",
    "What is the range of dates that this dataset covers?"
   ]
  },
  {
   "cell_type": "code",
   "execution_count": null,
   "id": "a628749a",
   "metadata": {},
   "outputs": [],
   "source": [
    "date = df['date']\n",
    "\n",
    "min_date = date.min()\n",
    "max_date = date.max()\n",
    "\n",
    "date_range = (min_date, max_date)\n",
    "\n",
    "print(f\"The dataset covers dates from {min_date} to {max_date}.\")"
   ]
  },
  {
   "cell_type": "markdown",
   "id": "0bfe5c85",
   "metadata": {},
   "source": [
    "### Confirmed Cases"
   ]
  },
  {
   "cell_type": "code",
   "execution_count": null,
   "id": "f609759a",
   "metadata": {},
   "outputs": [],
   "source": [
    "confirmed = df['confirmed']\n",
    "\n",
    "print(f\"The dataset covers confirmed cases values from {confirmed.min()} to {confirmed.max()}.\")"
   ]
  },
  {
   "cell_type": "code",
   "execution_count": null,
   "id": "4a7420e9",
   "metadata": {
    "scrolled": false
   },
   "outputs": [],
   "source": [
    "import matplotlib.pyplot as plt\n",
    "\n",
    "confirmed = df['confirmed']\n",
    "\n",
    "plt.hist(confirmed, bins=100, color='green', edgecolor='black')\n",
    "plt.xlabel('Confirmed Cases')\n",
    "plt.ylabel('Frequency')\n",
    "plt.title('Histogram of Confirmed Cases')\n",
    "plt.show()"
   ]
  },
  {
   "cell_type": "code",
   "execution_count": null,
   "id": "7de0037a",
   "metadata": {
    "scrolled": true
   },
   "outputs": [],
   "source": [
    "import numpy as np\n",
    "\n",
    "confirmed_drop = confirmed.dropna()\n",
    "c_hist, c_bin_edges = np.histogram(confirmed_drop, bins=100)\n",
    "c_bin_ranges = [f\"{c_bin_edges[i]:.2f} - {c_bin_edges[i+1]:.2f}\" for i in range(len(c_bin_edges) - 1)]\n",
    "c_hist_df = pd.DataFrame({'Bin Range': c_bin_ranges, 'Counts': c_hist})\n",
    "\n",
    "print(c_hist_df)"
   ]
  },
  {
   "cell_type": "code",
   "execution_count": null,
   "id": "2bcc319b",
   "metadata": {},
   "outputs": [],
   "source": [
    "# boxplot of confirmed cases\n",
    "plt.figure(figsize=(8, 6))\n",
    "plt.boxplot(confirmed_drop, vert=False)\n",
    "plt.xlabel('Confirmed Cases')\n",
    "plt.title('Box and Whisker Plot of Confirmed Cases')\n",
    "plt.grid(True)\n",
    "plt.show()"
   ]
  },
  {
   "cell_type": "code",
   "execution_count": null,
   "id": "cf239f76",
   "metadata": {
    "scrolled": false
   },
   "outputs": [],
   "source": [
    "# scatterplot of confirmed cases over time\n",
    "plt.figure(figsize=(12, 6))\n",
    "plt.scatter(date, confirmed, color='green', alpha=0.5)\n",
    "plt.xlabel('Date')\n",
    "plt.ylabel('Confirmed Cases')\n",
    "plt.title('Scatterplot of Confirmed Cases over Time')\n",
    "plt.grid(True)\n",
    "\n",
    "plt.show()"
   ]
  },
  {
   "cell_type": "markdown",
   "id": "0ee53f8a",
   "metadata": {},
   "source": [
    "### Deaths"
   ]
  },
  {
   "cell_type": "code",
   "execution_count": null,
   "id": "5f624867",
   "metadata": {},
   "outputs": [],
   "source": [
    "deaths = df['deaths']\n",
    "\n",
    "print(f\"The dataset covers deaths values from {deaths.min()} to {deaths.max()}.\")"
   ]
  },
  {
   "cell_type": "code",
   "execution_count": null,
   "id": "85b812e0",
   "metadata": {
    "scrolled": false
   },
   "outputs": [],
   "source": [
    "deaths = df['deaths']\n",
    "\n",
    "plt.hist(deaths, bins=100, color='firebrick', edgecolor='brown')\n",
    "plt.xlabel('Deaths')\n",
    "plt.ylabel('Frequency')\n",
    "plt.title('Histogram of Deaths')\n",
    "plt.show()"
   ]
  },
  {
   "cell_type": "code",
   "execution_count": null,
   "id": "a0d32913",
   "metadata": {
    "scrolled": false
   },
   "outputs": [],
   "source": [
    "# boxplot of deaths\n",
    "deaths_drop = deaths.dropna()\n",
    "\n",
    "plt.figure(figsize=(8, 6))\n",
    "plt.boxplot(deaths_drop, vert=False)\n",
    "plt.xlabel('Deaths')\n",
    "plt.title('Box and Whisker Plot of Deaths')\n",
    "plt.grid(True)\n",
    "plt.show()"
   ]
  },
  {
   "cell_type": "code",
   "execution_count": null,
   "id": "56522a58",
   "metadata": {},
   "outputs": [],
   "source": [
    "# scatterplot of deaths over time\n",
    "\n",
    "plt.figure(figsize=(12, 6))\n",
    "plt.scatter(date, deaths, color='firebrick', alpha=0.5)\n",
    "plt.xlabel('Date')\n",
    "plt.ylabel('Deaths')\n",
    "plt.title('Scatterplot of Deaths over Time')\n",
    "plt.grid(True)\n",
    "\n",
    "plt.show()"
   ]
  },
  {
   "cell_type": "markdown",
   "id": "cfbd85fa",
   "metadata": {},
   "source": [
    "### Recovered"
   ]
  },
  {
   "cell_type": "code",
   "execution_count": null,
   "id": "5c0f4f1f",
   "metadata": {},
   "outputs": [],
   "source": [
    "recovered = df['recovered']\n",
    "\n",
    "print(f\"The dataset covers confirmed cases values from {recovered.min()} to {recovered.max()}.\")"
   ]
  },
  {
   "cell_type": "code",
   "execution_count": null,
   "id": "c098241e",
   "metadata": {
    "scrolled": false
   },
   "outputs": [],
   "source": [
    "recovered = df['recovered']\n",
    "\n",
    "plt.hist(recovered, bins=100, color='rebeccapurple', edgecolor='black')\n",
    "plt.xlabel('Recovered Cases')\n",
    "plt.ylabel('Frequency')\n",
    "plt.title('Histogram of Recovered Cases')\n",
    "plt.show()"
   ]
  },
  {
   "cell_type": "code",
   "execution_count": null,
   "id": "99067ce7",
   "metadata": {},
   "outputs": [],
   "source": [
    "# boxplot of recovered cases\n",
    "recovered_drop = recovered.dropna()\n",
    "\n",
    "plt.figure(figsize=(8, 6))\n",
    "plt.boxplot(recovered_drop, vert=False)\n",
    "plt.xlabel('Recovered Cases')\n",
    "plt.title('Box and Whisker Plot of Recovered Cases')\n",
    "plt.grid(True)\n",
    "plt.show()"
   ]
  },
  {
   "cell_type": "code",
   "execution_count": null,
   "id": "03dd3b72",
   "metadata": {},
   "outputs": [],
   "source": [
    "# scatterplot of recovered cases over time\n",
    "\n",
    "plt.figure(figsize=(12, 6))\n",
    "plt.scatter(date, recovered, color='rebeccapurple', alpha=0.5)\n",
    "plt.xlabel('Date')\n",
    "plt.ylabel('Recovered Cases')\n",
    "plt.title('Scatterplot of Recovered Cases over Time')\n",
    "plt.grid(True)\n",
    "\n",
    "plt.show()"
   ]
  },
  {
   "cell_type": "markdown",
   "id": "efeb2554",
   "metadata": {},
   "source": [
    "### Active"
   ]
  },
  {
   "cell_type": "code",
   "execution_count": null,
   "id": "b95b12d4",
   "metadata": {},
   "outputs": [],
   "source": [
    "active = df['active']\n",
    "\n",
    "print(f\"The dataset covers active cases values from {active.min()} to {active.max()}.\")"
   ]
  },
  {
   "cell_type": "code",
   "execution_count": null,
   "id": "d158906e",
   "metadata": {
    "scrolled": false
   },
   "outputs": [],
   "source": [
    "active = df['active']\n",
    "\n",
    "plt.hist(active, bins=100, color='gold', edgecolor='black')\n",
    "plt.xlabel('Active Cases')\n",
    "plt.ylabel('Frequency')\n",
    "plt.title('Histogram of Active Cases')\n",
    "plt.show()"
   ]
  },
  {
   "cell_type": "code",
   "execution_count": null,
   "id": "808d519d",
   "metadata": {},
   "outputs": [],
   "source": [
    "# boxplot of recovered cases\n",
    "active_drop = active.dropna()\n",
    "\n",
    "plt.figure(figsize=(8, 6))\n",
    "plt.boxplot(active_drop, vert=False)\n",
    "plt.xlabel('Active Cases')\n",
    "plt.title('Box and Whisker Plot of Active Cases')\n",
    "plt.grid(True)\n",
    "plt.show()"
   ]
  },
  {
   "cell_type": "code",
   "execution_count": null,
   "id": "0918260b",
   "metadata": {},
   "outputs": [],
   "source": [
    "# scatterplot of active cases over time\n",
    "\n",
    "plt.figure(figsize=(12, 6))\n",
    "plt.scatter(date, active, color='gold', alpha=0.5)\n",
    "plt.xlabel('Date')\n",
    "plt.ylabel('Active Cases')\n",
    "plt.title('Scatterplot of Active Cases over Time')\n",
    "plt.grid(True)\n",
    " \n",
    "plt.show()"
   ]
  },
  {
   "cell_type": "markdown",
   "id": "56f9318d",
   "metadata": {},
   "source": [
    "### Time Series Line Plot for Confirmed, Deaths, Active and Recovered in the US"
   ]
  },
  {
   "cell_type": "code",
   "execution_count": null,
   "id": "f4b4dbe2",
   "metadata": {
    "scrolled": false
   },
   "outputs": [],
   "source": [
    "# filter data for US\n",
    "location_data = df[df['country_region'] == 'US']\n",
    "\n",
    "# create a time series line plot\n",
    "plt.figure(figsize=(12, 6))\n",
    "plt.plot(location_data['date'], location_data['confirmed'], label='Confirmed', color='green')\n",
    "plt.plot(location_data['date'], location_data['deaths'], label='Deaths',color='firebrick')\n",
    "plt.plot(location_data['date'], location_data['active'], label='Active',color='rebeccapurple')\n",
    "plt.plot(location_data['date'], location_data['recovered'], label='Recovered',color='gold')\n",
    "\n",
    "plt.xlabel('Date')\n",
    "plt.ylabel('Counts')\n",
    "plt.title(f'Time Series for {location}')\n",
    "plt.legend()\n",
    "plt.grid(True)\n",
    "plt.xticks(rotation=45)\n",
    "\n",
    "plt.show()"
   ]
  },
  {
   "cell_type": "code",
   "execution_count": null,
   "id": "2b603739",
   "metadata": {},
   "outputs": [],
   "source": [
    "df_drop = df.dropna()\n",
    "\n",
    "df_drop.describe()"
   ]
  },
  {
   "cell_type": "code",
   "execution_count": null,
   "id": "c9a89a6e",
   "metadata": {},
   "outputs": [],
   "source": []
  }
 ],
 "metadata": {
  "kernelspec": {
   "display_name": "Python 3 (ipykernel)",
   "language": "python",
   "name": "python3"
  },
  "language_info": {
   "codemirror_mode": {
    "name": "ipython",
    "version": 3
   },
   "file_extension": ".py",
   "mimetype": "text/x-python",
   "name": "python",
   "nbconvert_exporter": "python",
   "pygments_lexer": "ipython3",
   "version": "3.9.13"
  }
 },
 "nbformat": 4,
 "nbformat_minor": 5
}
